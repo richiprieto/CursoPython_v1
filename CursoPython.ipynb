{
 "cells": [
  {
   "cell_type": "markdown",
   "metadata": {},
   "source": [
    "# Intoducción a Python, Numpy y Pandas\n",
    "\n",
    "## Ricardo M. Prieto\n",
    "\n",
    "####  EÓN CORP"
   ]
  },
  {
   "cell_type": "markdown",
   "metadata": {},
   "source": [
    "# Intro: Python"
   ]
  },
  {
   "cell_type": "code",
   "execution_count": 1,
   "metadata": {},
   "outputs": [
    {
     "name": "stdout",
     "output_type": "stream",
     "text": [
      "Hola Mundo\n"
     ]
    }
   ],
   "source": [
    "print(\"Hola Mundo\")"
   ]
  },
  {
   "cell_type": "code",
   "execution_count": 2,
   "metadata": {
    "collapsed": true
   },
   "outputs": [],
   "source": [
    "#Comentario una Linea"
   ]
  },
  {
   "cell_type": "code",
   "execution_count": 3,
   "metadata": {},
   "outputs": [
    {
     "name": "stdout",
     "output_type": "stream",
     "text": [
      "True\n"
     ]
    }
   ],
   "source": [
    "#Identación\n",
    "if True:\n",
    "    print(True)\n",
    "else:\n",
    "    print(False)"
   ]
  },
  {
   "cell_type": "code",
   "execution_count": 4,
   "metadata": {},
   "outputs": [
    {
     "name": "stdout",
     "output_type": "stream",
     "text": [
      "<class 'int'>\n",
      "<class 'float'>\n",
      "<class 'str'>\n",
      "<class 'complex'>\n"
     ]
    }
   ],
   "source": [
    "#Tipos de datos\n",
    "a=1\n",
    "print(type(a))\n",
    "b=1.5e-3\n",
    "print(type(b))\n",
    "c=\"UPS\"\n",
    "print(type(c))\n",
    "d=3.2+9.9j\n",
    "print(type(d))"
   ]
  },
  {
   "cell_type": "code",
   "execution_count": 5,
   "metadata": {},
   "outputs": [
    {
     "name": "stdout",
     "output_type": "stream",
     "text": [
      "1 1 1 8 prueba (1.9+3.9j)\n"
     ]
    }
   ],
   "source": [
    "#asignación de variables\n",
    "a = b = c =1\n",
    "d, e, f = 8, \"prueba\", 1.9 + 3.9j\n",
    "print(a,b,c,d,e,f)"
   ]
  },
  {
   "cell_type": "code",
   "execution_count": 6,
   "metadata": {},
   "outputs": [
    {
     "name": "stdout",
     "output_type": "stream",
     "text": [
      "holaamigos\n",
      "-2\n",
      "holaholaholaholahola\n",
      "1.6666666666666667\n",
      "1\n",
      "125\n",
      "2\n"
     ]
    }
   ],
   "source": [
    "#Operadores aritméticos\n",
    "a=3\n",
    "b=\"hola\"\n",
    "c=\"amigos\"\n",
    "d=5\n",
    "print(b+c) #suma\n",
    "print(a-d) #resta\n",
    "print(b*5) #multiplicación\n",
    "print(d/a) #división\n",
    "print(d//a)#división entera\n",
    "print(d**a)#exponente\n",
    "print(d%a) #módulo"
   ]
  },
  {
   "cell_type": "code",
   "execution_count": 7,
   "metadata": {},
   "outputs": [
    {
     "name": "stdout",
     "output_type": "stream",
     "text": [
      "False\n",
      "True\n",
      "True\n",
      "False\n",
      "True\n",
      "False\n"
     ]
    }
   ],
   "source": [
    "#Operadores Boleanos\n",
    "a=1\n",
    "b=3\n",
    "print(a==b) #igual\n",
    "print(a!=b) #no igual\n",
    "print(a<b)  #a menor b\n",
    "print(a>b)  #a mayor b\n",
    "print(a<=b) #a menor igual b\n",
    "print(a>=b) #a mayor igual b"
   ]
  },
  {
   "cell_type": "code",
   "execution_count": 8,
   "metadata": {},
   "outputs": [
    {
     "name": "stdout",
     "output_type": "stream",
     "text": [
      "Todos\n",
      "a\n",
      "lud\n",
      "Saludos a Todos Ustedes\n"
     ]
    }
   ],
   "source": [
    "#Strings (index comienza en 0)\n",
    "frase = \"Saludos a Todos\"\n",
    "print(frase[10:]) #escoger a partir de la posición 10 hasta el final\n",
    "print(frase[8]) #escoger la posición 8\n",
    "print(frase[2:5]) #escoger la posición de 2 a 5\n",
    "print(frase+\" Ustedes\") #concatena dos strings"
   ]
  },
  {
   "cell_type": "code",
   "execution_count": 9,
   "metadata": {},
   "outputs": [
    {
     "name": "stdout",
     "output_type": "stream",
     "text": [
      "['UPS', 786, 5.23j, 'Universidad', 1.1e-06]\n",
      "UPS\n",
      "[5.23j, 'Universidad', 1.1e-06]\n"
     ]
    }
   ],
   "source": [
    "#Listas\n",
    "lista=['UPS', 786, 5.23j, 'Universidad', 1.1e-6]\n",
    "print(lista)\n",
    "print(lista[0])\n",
    "print(lista[2:])"
   ]
  },
  {
   "cell_type": "code",
   "execution_count": 10,
   "metadata": {},
   "outputs": [
    {
     "name": "stdout",
     "output_type": "stream",
     "text": [
      "('UPS', 786, 5.23j, 'Universidad', 1.1e-06)\n",
      "UPS\n",
      "1.1e-06\n",
      "(5.23j, 'Universidad', 1.1e-06)\n"
     ]
    }
   ],
   "source": [
    "#Tuplas\n",
    "tupla=('UPS', 786, 5.23j, 'Universidad', 1.1e-6)\n",
    "print(tupla)\n",
    "print(tupla[0])\n",
    "print(tupla[-1])\n",
    "print(tupla[2:])\n",
    "\n",
    "#Diferencia entre tupla y listas?\n",
    "#lista[2]=1\n",
    "#tupla[2]=1"
   ]
  },
  {
   "cell_type": "code",
   "execution_count": 11,
   "metadata": {},
   "outputs": [
    {
     "name": "stdout",
     "output_type": "stream",
     "text": [
      "{'nombre': ['Juan', 'Orellana'], 'codigo': 6734, 'departamento': 'I+D', 1: 'Indice Numérico'}\n",
      "6734\n",
      "Juan\n",
      "Indice Numérico\n",
      "dict_keys(['nombre', 'codigo', 'departamento', 1])\n",
      "dict_values([['Juan', 'Orellana'], 6734, 'I+D', 'Indice Numérico'])\n"
     ]
    }
   ],
   "source": [
    "#Diccionario\n",
    "diccionario = {'nombre': ['Juan','Orellana'],'codigo':6734, \\\n",
    "               'departamento': 'I+D',1: 'Indice Numérico'}\n",
    "\n",
    "print(diccionario)           # Contenido completo\n",
    "print(diccionario['codigo']) # valor de indice 'codigo'\n",
    "print(diccionario['nombre'][0])# valor de indice 'nombre' en la posicion 0\n",
    "print(diccionario[1]) #valor de indice 1\n",
    "print(diccionario.keys())   # Indices del diccionario\n",
    "print(diccionario.values()) # Valores del diccionario"
   ]
  },
  {
   "cell_type": "code",
   "execution_count": 12,
   "metadata": {},
   "outputs": [
    {
     "name": "stdout",
     "output_type": "stream",
     "text": [
      "A vale 1\n"
     ]
    }
   ],
   "source": [
    "#Condicional\n",
    "a=1\n",
    "if a == 1:\n",
    "    print(\"A vale 1\")\n",
    "else:\n",
    "    print(\"A tiene valor diferente a 1\")"
   ]
  },
  {
   "cell_type": "code",
   "execution_count": 13,
   "metadata": {},
   "outputs": [
    {
     "name": "stdout",
     "output_type": "stream",
     "text": [
      "9\n",
      "10\n"
     ]
    }
   ],
   "source": [
    "#Iterador for \n",
    "for i in range(9,11):\n",
    "    print(i)"
   ]
  },
  {
   "cell_type": "code",
   "execution_count": 14,
   "metadata": {},
   "outputs": [
    {
     "name": "stdout",
     "output_type": "stream",
     "text": [
      "0\n",
      "1\n",
      "2\n",
      "3\n",
      "4\n",
      "5\n",
      "6\n",
      "7\n",
      "8\n",
      "9\n",
      "10\n"
     ]
    }
   ],
   "source": [
    "#iterador while\n",
    "i=0\n",
    "while i <= 10:\n",
    "    print(i)\n",
    "    i +=1"
   ]
  },
  {
   "cell_type": "markdown",
   "metadata": {
    "collapsed": true
   },
   "source": [
    "# Intro: Numpy"
   ]
  },
  {
   "cell_type": "code",
   "execution_count": 15,
   "metadata": {
    "collapsed": true
   },
   "outputs": [],
   "source": [
    "#Agregamos la libreria\n",
    "import numpy as np "
   ]
  },
  {
   "cell_type": "code",
   "execution_count": 16,
   "metadata": {},
   "outputs": [
    {
     "name": "stdout",
     "output_type": "stream",
     "text": [
      "<class 'numpy.ndarray'>\n"
     ]
    },
    {
     "data": {
      "text/plain": [
       "array([0, 1, 3])"
      ]
     },
     "execution_count": 16,
     "metadata": {},
     "output_type": "execute_result"
    }
   ],
   "source": [
    "#Array 1D Numpy\n",
    "lista = [0,1,3]\n",
    "matriz1D=np.array(lista)\n",
    "print(type(matriz1D))\n",
    "matriz1D"
   ]
  },
  {
   "cell_type": "code",
   "execution_count": 17,
   "metadata": {},
   "outputs": [
    {
     "name": "stdout",
     "output_type": "stream",
     "text": [
      "<class 'numpy.ndarray'>\n"
     ]
    },
    {
     "data": {
      "text/plain": [
       "array([[0, 1, 2],\n",
       "       [3, 4, 5],\n",
       "       [5, 6, 7]])"
      ]
     },
     "execution_count": 17,
     "metadata": {},
     "output_type": "execute_result"
    }
   ],
   "source": [
    "#Array 2D Numpy\n",
    "matriz2D=np.array([[0,1,2],[3,4,5],[5,6,7]])\n",
    "print(type(matriz2D))\n",
    "matriz2D"
   ]
  },
  {
   "cell_type": "code",
   "execution_count": 18,
   "metadata": {},
   "outputs": [
    {
     "name": "stdout",
     "output_type": "stream",
     "text": [
      "[['0' '1' '2']\n",
      " ['3' '4' '5']\n",
      " ['5' '6' '7']]\n"
     ]
    }
   ],
   "source": [
    "#cambiar de tipos String\n",
    "matriz2D=matriz2D.astype('str')\n",
    "print (matriz2D)"
   ]
  },
  {
   "cell_type": "code",
   "execution_count": 19,
   "metadata": {},
   "outputs": [
    {
     "data": {
      "text/plain": [
       "array([[0, 1, 2],\n",
       "       [3, 4, 5],\n",
       "       [5, 6, 7]])"
      ]
     },
     "execution_count": 19,
     "metadata": {},
     "output_type": "execute_result"
    }
   ],
   "source": [
    "#cambiar de tipos Int\n",
    "matriz2D.astype('int')"
   ]
  },
  {
   "cell_type": "code",
   "execution_count": 20,
   "metadata": {},
   "outputs": [
    {
     "data": {
      "text/plain": [
       "array([[ 0.,  1.,  2.],\n",
       "       [ 3.,  4.,  5.],\n",
       "       [ 5.,  6.,  7.]])"
      ]
     },
     "execution_count": 20,
     "metadata": {},
     "output_type": "execute_result"
    }
   ],
   "source": [
    "#cambiar de tipos float\n",
    "matriz2D.astype('float')"
   ]
  },
  {
   "cell_type": "code",
   "execution_count": 21,
   "metadata": {},
   "outputs": [
    {
     "data": {
      "text/plain": [
       "array([[ 0.+0.j,  1.+0.j,  2.+0.j],\n",
       "       [ 3.+0.j,  4.+0.j,  5.+0.j],\n",
       "       [ 5.+0.j,  6.+0.j,  7.+0.j]])"
      ]
     },
     "execution_count": 21,
     "metadata": {},
     "output_type": "execute_result"
    }
   ],
   "source": [
    "#cambiar de tipos complejo\n",
    "matriz2D.astype('complex')"
   ]
  },
  {
   "cell_type": "code",
   "execution_count": 22,
   "metadata": {},
   "outputs": [
    {
     "data": {
      "text/plain": [
       "(3, 3)"
      ]
     },
     "execution_count": 22,
     "metadata": {},
     "output_type": "execute_result"
    }
   ],
   "source": [
    "#shape\n",
    "matriz2D.shape"
   ]
  },
  {
   "cell_type": "code",
   "execution_count": 23,
   "metadata": {},
   "outputs": [
    {
     "data": {
      "text/plain": [
       "9"
      ]
     },
     "execution_count": 23,
     "metadata": {},
     "output_type": "execute_result"
    }
   ],
   "source": [
    "#size\n",
    "matriz2D.size"
   ]
  },
  {
   "cell_type": "code",
   "execution_count": 24,
   "metadata": {},
   "outputs": [
    {
     "data": {
      "text/plain": [
       "2"
      ]
     },
     "execution_count": 24,
     "metadata": {},
     "output_type": "execute_result"
    }
   ],
   "source": [
    "#dimensiones\n",
    "matriz2D.ndim"
   ]
  },
  {
   "cell_type": "code",
   "execution_count": 25,
   "metadata": {},
   "outputs": [
    {
     "data": {
      "text/plain": [
       "array([['0', '1', '2', '3', '4', '5', '5', '6', '7']],\n",
       "      dtype='<U21')"
      ]
     },
     "execution_count": 25,
     "metadata": {},
     "output_type": "execute_result"
    }
   ],
   "source": [
    "#reshape\n",
    "matriz2D.shape=(1,9)\n",
    "matriz2D"
   ]
  },
  {
   "cell_type": "code",
   "execution_count": 26,
   "metadata": {},
   "outputs": [
    {
     "data": {
      "text/plain": [
       "array([[0, 1, 2],\n",
       "       [3, 4, 5],\n",
       "       [5, 6, 7]])"
      ]
     },
     "execution_count": 26,
     "metadata": {},
     "output_type": "execute_result"
    }
   ],
   "source": [
    "matriz2D.shape=(3,3)\n",
    "matriz2D=matriz2D.astype('int')\n",
    "matriz2D"
   ]
  },
  {
   "cell_type": "code",
   "execution_count": 27,
   "metadata": {},
   "outputs": [
    {
     "data": {
      "text/plain": [
       "array([[5, 6, 7],\n",
       "       [3, 4, 5],\n",
       "       [0, 1, 2]])"
      ]
     },
     "execution_count": 27,
     "metadata": {},
     "output_type": "execute_result"
    }
   ],
   "source": [
    "#invirtiendo filas\n",
    "matriz2D[::-1]"
   ]
  },
  {
   "cell_type": "code",
   "execution_count": 28,
   "metadata": {},
   "outputs": [
    {
     "data": {
      "text/plain": [
       "array([[2, 1, 0],\n",
       "       [5, 4, 3],\n",
       "       [7, 6, 5]])"
      ]
     },
     "execution_count": 28,
     "metadata": {},
     "output_type": "execute_result"
    }
   ],
   "source": [
    "#invirtiendo columnas\n",
    "matriz2D[: ,::-1]"
   ]
  },
  {
   "cell_type": "code",
   "execution_count": 29,
   "metadata": {},
   "outputs": [
    {
     "data": {
      "text/plain": [
       "array([[7, 6, 5],\n",
       "       [5, 4, 3],\n",
       "       [2, 1, 0]])"
      ]
     },
     "execution_count": 29,
     "metadata": {},
     "output_type": "execute_result"
    }
   ],
   "source": [
    "#invirtiendo filas y columnas\n",
    "matriz2D[::-1,::-1]"
   ]
  },
  {
   "cell_type": "code",
   "execution_count": 30,
   "metadata": {},
   "outputs": [
    {
     "name": "stdout",
     "output_type": "stream",
     "text": [
      "Media:  3.66666666667\n",
      "Minimo:  0\n",
      "Máximo:  7\n"
     ]
    }
   ],
   "source": [
    "# obteniendo media, minimo y máximo\n",
    "print(\"Media: \",matriz2D.mean())\n",
    "print(\"Minimo: \",matriz2D.min())\n",
    "print(\"Máximo: \",matriz2D.max())"
   ]
  },
  {
   "cell_type": "code",
   "execution_count": 31,
   "metadata": {},
   "outputs": [
    {
     "data": {
      "text/plain": [
       "3"
      ]
     },
     "execution_count": 31,
     "metadata": {},
     "output_type": "execute_result"
    }
   ],
   "source": [
    "#matriz3D\n",
    "matriz3D=np.array( [[[ 0,  1,  2],\n",
    "                    [ 3,  4,  5],\n",
    "                    [ 6,  7,  8]],\n",
    "                   [[ 9, 10, 11],\n",
    "                    [12, 13, 14],\n",
    "                    [15, 16, 17]],\n",
    "                   [[18, 19, 20],\n",
    "                    [21, 22, 23],\n",
    "                    [24, 25, 26]]])\n",
    "matriz3D.ndim"
   ]
  },
  {
   "cell_type": "code",
   "execution_count": 32,
   "metadata": {},
   "outputs": [
    {
     "data": {
      "text/plain": [
       "17"
      ]
     },
     "execution_count": 32,
     "metadata": {},
     "output_type": "execute_result"
    }
   ],
   "source": [
    "#accesando a una posición\n",
    "matriz3D[1][2][2]"
   ]
  },
  {
   "cell_type": "code",
   "execution_count": 33,
   "metadata": {},
   "outputs": [
    {
     "data": {
      "text/plain": [
       "array([[[ 0,  1,  2],\n",
       "        [ 3,  4,  5],\n",
       "        [ 6,  7,  8]],\n",
       "\n",
       "       [[ 9, 10, 11],\n",
       "        [12, 13, 14],\n",
       "        [15, 16, 99]],\n",
       "\n",
       "       [[18, 19, 20],\n",
       "        [21, 22, 23],\n",
       "        [24, 25, 26]]])"
      ]
     },
     "execution_count": 33,
     "metadata": {},
     "output_type": "execute_result"
    }
   ],
   "source": [
    "#asignando un valor a la posición\n",
    "matriz3D[1][2][2]=99\n",
    "matriz3D"
   ]
  },
  {
   "cell_type": "code",
   "execution_count": 34,
   "metadata": {},
   "outputs": [
    {
     "name": "stdout",
     "output_type": "stream",
     "text": [
      "Dimensiones Ant:  3\n",
      "Dimensiones Des:  2\n",
      "Nuevo matriz2D:  [[ 0  1  2  3  4  5  6  7  8]\n",
      " [ 9 10 11 12 13 14 15 16 99]\n",
      " [18 19 20 21 22 23 24 25 26]]\n"
     ]
    },
    {
     "data": {
      "text/plain": [
       "array([ 0,  1,  2,  3,  4,  5,  6,  7,  8,  9, 10, 11, 12, 13, 14, 15, 16,\n",
       "       99, 18, 19, 20, 21, 22, 23, 24, 25, 26])"
      ]
     },
     "execution_count": 34,
     "metadata": {},
     "output_type": "execute_result"
    }
   ],
   "source": [
    "#Disminuyendo la dimensión\n",
    "matriz2D=matriz3D.reshape(3,9)\n",
    "print('Dimensiones Ant: ',matriz3D.ndim)\n",
    "print('Dimensiones Des: ',matriz2D.ndim)\n",
    "print('Nuevo matriz2D: ',matriz2D)\n",
    "#Una sola dimension\n",
    "matriz1D=matriz3D.flatten()\n",
    "matriz1D"
   ]
  },
  {
   "cell_type": "code",
   "execution_count": 35,
   "metadata": {},
   "outputs": [
    {
     "name": "stdout",
     "output_type": "stream",
     "text": [
      "[0 2 4 6 8]\n",
      "[ 1.00000000+0.j  1.33333333+0.j  1.66666667+0.j  2.00000000+0.j\n",
      "  2.33333333+0.j  2.66666667+0.j  3.00000000+0.j  3.33333333+0.j\n",
      "  3.66666667+0.j  4.00000000+0.j]\n"
     ]
    }
   ],
   "source": [
    "#Secuencias\n",
    "print(np.arange(0,10,2))\n",
    "print(np.linspace(1,4,10,dtype='complex'))"
   ]
  },
  {
   "cell_type": "code",
   "execution_count": 36,
   "metadata": {},
   "outputs": [
    {
     "name": "stdout",
     "output_type": "stream",
     "text": [
      "[[2 2]\n",
      " [6 1]]\n",
      "[[-0.57860025  1.65143654]\n",
      " [-2.42667924 -0.42891263]]\n"
     ]
    }
   ],
   "source": [
    "#Números Random\n",
    "np.random.seed(123)\n",
    "print(np.random.randint(0,10,(2,2)))\n",
    "print(np.random.randn(2,2))"
   ]
  },
  {
   "cell_type": "markdown",
   "metadata": {},
   "source": [
    "#### Ejercicio en Numpy"
   ]
  },
  {
   "cell_type": "code",
   "execution_count": 37,
   "metadata": {},
   "outputs": [
    {
     "data": {
      "image/png": "[encoded data removed]",
      "text/plain": [
       "<matplotlib.figure.Figure at 0x7fc857847358>"
      ]
     },
     "metadata": {},
     "output_type": "display_data"
    }
   ],
   "source": [
    "#Transformada de fourier\n",
    "import matplotlib.pyplot as plt\n",
    "import numpy as np\n",
    "t = np.linspace(0, 1, 1000)\n",
    "freq1=100;\n",
    "freq2=200\n",
    "s = np.sin(freq1 * 2 * np.pi * t) + 0.5 * np.cos(freq2 * 2 * np.pi * t)\n",
    "\n",
    "plt.ylabel(\"Amplitud\")\n",
    "plt.xlabel(\"Tiempo [s]\")\n",
    "plt.plot(t, s)\n",
    "plt.show()"
   ]
  },
  {
   "cell_type": "code",
   "execution_count": 38,
   "metadata": {
    "scrolled": true
   },
   "outputs": [
    {
     "data": {
      "image/png": "[encoded data removed]",
      "text/plain": [
       "<matplotlib.figure.Figure at 0x7fc8742ffba8>"
      ]
     },
     "metadata": {},
     "output_type": "display_data"
    }
   ],
   "source": [
    "fft = np.fft.fft(s) #Transformar la señal a fft\n",
    "T = t[1] - t[0]  # taza de muestreo\n",
    "N = s.size #elementos en señal \n",
    "\n",
    "# 1/T = frecuencia\n",
    "f = np.linspace(0, 1 / T, N)\n",
    "\n",
    "plt.ylabel(\"Amplitud\")\n",
    "plt.xlabel(\"Frequencia [Hz]\")\n",
    "plt.bar(f[:N//2], np.abs(fft)[:N//2]) \n",
    "plt.show()"
   ]
  },
  {
   "cell_type": "markdown",
   "metadata": {
    "collapsed": true
   },
   "source": [
    "# Intro: Pandas"
   ]
  },
  {
   "cell_type": "code",
   "execution_count": 1,
   "metadata": {
    "collapsed": true
   },
   "outputs": [],
   "source": [
    "#importamos la libreria\n",
    "import pandas as pd\n",
    "import numpy as np"
   ]
  },
  {
   "cell_type": "code",
   "execution_count": 2,
   "metadata": {},
   "outputs": [
    {
     "data": {
      "text/plain": [
       "0     1.0\n",
       "1     3.0\n",
       "2     5.0\n",
       "3     7.0\n",
       "4     NaN\n",
       "5    11.0\n",
       "6    13.0\n",
       "dtype: float64"
      ]
     },
     "execution_count": 2,
     "metadata": {},
     "output_type": "execute_result"
    }
   ],
   "source": [
    "#Series\n",
    "serie=pd.Series([1,3,5,7,np.nan,11,13])\n",
    "serie"
   ]
  },
  {
   "cell_type": "code",
   "execution_count": 3,
   "metadata": {},
   "outputs": [
    {
     "data": {
      "text/plain": [
       "DatetimeIndex(['2018-01-31', '2018-02-28', '2018-03-31', '2018-04-30',\n",
       "               '2018-05-31', '2018-06-30'],\n",
       "              dtype='datetime64[ns]', freq='M')"
      ]
     },
     "execution_count": 3,
     "metadata": {},
     "output_type": "execute_result"
    }
   ],
   "source": [
    "#Generamos un indice\n",
    "fechas = pd.date_range('20180101',periods=6,freq='M')\n",
    "fechas"
   ]
  },
  {
   "cell_type": "code",
   "execution_count": 4,
   "metadata": {},
   "outputs": [
    {
     "data": {
      "text/html": [
       "<div>\n",
       "<style>\n",
       "    .dataframe thead tr:only-child th {\n",
       "        text-align: right;\n",
       "    }\n",
       "\n",
       "    .dataframe thead th {\n",
       "        text-align: left;\n",
       "    }\n",
       "\n",
       "    .dataframe tbody tr th {\n",
       "        vertical-align: top;\n",
       "    }\n",
       "</style>\n",
       "<table border=\"1\" class=\"dataframe\">\n",
       "  <thead>\n",
       "    <tr style=\"text-align: right;\">\n",
       "      <th></th>\n",
       "      <th>A</th>\n",
       "      <th>B</th>\n",
       "      <th>C</th>\n",
       "      <th>D</th>\n",
       "    </tr>\n",
       "  </thead>\n",
       "  <tbody>\n",
       "    <tr>\n",
       "      <th>2018-01-31</th>\n",
       "      <td>1.375923</td>\n",
       "      <td>-0.192418</td>\n",
       "      <td>1.577441</td>\n",
       "      <td>-1.421906</td>\n",
       "    </tr>\n",
       "    <tr>\n",
       "      <th>2018-02-28</th>\n",
       "      <td>0.020578</td>\n",
       "      <td>0.217987</td>\n",
       "      <td>0.115208</td>\n",
       "      <td>0.001403</td>\n",
       "    </tr>\n",
       "    <tr>\n",
       "      <th>2018-03-31</th>\n",
       "      <td>0.814479</td>\n",
       "      <td>-0.300452</td>\n",
       "      <td>-0.427741</td>\n",
       "      <td>-1.981531</td>\n",
       "    </tr>\n",
       "    <tr>\n",
       "      <th>2018-04-30</th>\n",
       "      <td>0.889032</td>\n",
       "      <td>-0.526478</td>\n",
       "      <td>-0.858163</td>\n",
       "      <td>0.417239</td>\n",
       "    </tr>\n",
       "    <tr>\n",
       "      <th>2018-05-31</th>\n",
       "      <td>-0.468856</td>\n",
       "      <td>0.348076</td>\n",
       "      <td>0.136487</td>\n",
       "      <td>0.117355</td>\n",
       "    </tr>\n",
       "    <tr>\n",
       "      <th>2018-06-30</th>\n",
       "      <td>0.987198</td>\n",
       "      <td>0.352640</td>\n",
       "      <td>0.258143</td>\n",
       "      <td>-1.526662</td>\n",
       "    </tr>\n",
       "  </tbody>\n",
       "</table>\n",
       "</div>"
      ],
      "text/plain": [
       "                   A         B         C         D\n",
       "2018-01-31  1.375923 -0.192418  1.577441 -1.421906\n",
       "2018-02-28  0.020578  0.217987  0.115208  0.001403\n",
       "2018-03-31  0.814479 -0.300452 -0.427741 -1.981531\n",
       "2018-04-30  0.889032 -0.526478 -0.858163  0.417239\n",
       "2018-05-31 -0.468856  0.348076  0.136487  0.117355\n",
       "2018-06-30  0.987198  0.352640  0.258143 -1.526662"
      ]
     },
     "execution_count": 4,
     "metadata": {},
     "output_type": "execute_result"
    }
   ],
   "source": [
    "#Creamos un dataframe\n",
    "dataFrame=pd.DataFrame(np.random.randn(6,4),index=fechas,columns=list('ABCD'))\n",
    "dataFrame"
   ]
  },
  {
   "cell_type": "code",
   "execution_count": 5,
   "metadata": {},
   "outputs": [
    {
     "data": {
      "text/html": [
       "<div>\n",
       "<style>\n",
       "    .dataframe thead tr:only-child th {\n",
       "        text-align: right;\n",
       "    }\n",
       "\n",
       "    .dataframe thead th {\n",
       "        text-align: left;\n",
       "    }\n",
       "\n",
       "    .dataframe tbody tr th {\n",
       "        vertical-align: top;\n",
       "    }\n",
       "</style>\n",
       "<table border=\"1\" class=\"dataframe\">\n",
       "  <thead>\n",
       "    <tr style=\"text-align: right;\">\n",
       "      <th></th>\n",
       "      <th>A</th>\n",
       "      <th>B</th>\n",
       "      <th>C</th>\n",
       "      <th>D</th>\n",
       "    </tr>\n",
       "  </thead>\n",
       "  <tbody>\n",
       "    <tr>\n",
       "      <th>2018-04-30</th>\n",
       "      <td>0.889032</td>\n",
       "      <td>-0.526478</td>\n",
       "      <td>-0.858163</td>\n",
       "      <td>0.417239</td>\n",
       "    </tr>\n",
       "    <tr>\n",
       "      <th>2018-05-31</th>\n",
       "      <td>-0.468856</td>\n",
       "      <td>0.348076</td>\n",
       "      <td>0.136487</td>\n",
       "      <td>0.117355</td>\n",
       "    </tr>\n",
       "    <tr>\n",
       "      <th>2018-06-30</th>\n",
       "      <td>0.987198</td>\n",
       "      <td>0.352640</td>\n",
       "      <td>0.258143</td>\n",
       "      <td>-1.526662</td>\n",
       "    </tr>\n",
       "  </tbody>\n",
       "</table>\n",
       "</div>"
      ],
      "text/plain": [
       "                   A         B         C         D\n",
       "2018-04-30  0.889032 -0.526478 -0.858163  0.417239\n",
       "2018-05-31 -0.468856  0.348076  0.136487  0.117355\n",
       "2018-06-30  0.987198  0.352640  0.258143 -1.526662"
      ]
     },
     "execution_count": 5,
     "metadata": {},
     "output_type": "execute_result"
    }
   ],
   "source": [
    "#Visualizar datos por posicion del indice\n",
    "dataFrame.iloc[3:]#>0"
   ]
  },
  {
   "cell_type": "code",
   "execution_count": 6,
   "metadata": {},
   "outputs": [
    {
     "data": {
      "text/plain": [
       "A    1.375923\n",
       "B   -0.192418\n",
       "C    1.577441\n",
       "D   -1.421906\n",
       "Name: 2018-01-31 00:00:00, dtype: float64"
      ]
     },
     "execution_count": 6,
     "metadata": {},
     "output_type": "execute_result"
    }
   ],
   "source": [
    "#Visualizar datos por posicion del indice\n",
    "dataFrame.loc['2018-01-31']"
   ]
  },
  {
   "cell_type": "code",
   "execution_count": 7,
   "metadata": {},
   "outputs": [
    {
     "data": {
      "text/html": [
       "<div>\n",
       "<style>\n",
       "    .dataframe thead tr:only-child th {\n",
       "        text-align: right;\n",
       "    }\n",
       "\n",
       "    .dataframe thead th {\n",
       "        text-align: left;\n",
       "    }\n",
       "\n",
       "    .dataframe tbody tr th {\n",
       "        vertical-align: top;\n",
       "    }\n",
       "</style>\n",
       "<table border=\"1\" class=\"dataframe\">\n",
       "  <thead>\n",
       "    <tr style=\"text-align: right;\">\n",
       "      <th></th>\n",
       "      <th>B</th>\n",
       "      <th>D</th>\n",
       "    </tr>\n",
       "  </thead>\n",
       "  <tbody>\n",
       "    <tr>\n",
       "      <th>2018-01-31</th>\n",
       "      <td>-0.192418</td>\n",
       "      <td>-1.421906</td>\n",
       "    </tr>\n",
       "    <tr>\n",
       "      <th>2018-02-28</th>\n",
       "      <td>0.217987</td>\n",
       "      <td>0.001403</td>\n",
       "    </tr>\n",
       "    <tr>\n",
       "      <th>2018-03-31</th>\n",
       "      <td>-0.300452</td>\n",
       "      <td>-1.981531</td>\n",
       "    </tr>\n",
       "    <tr>\n",
       "      <th>2018-04-30</th>\n",
       "      <td>-0.526478</td>\n",
       "      <td>0.417239</td>\n",
       "    </tr>\n",
       "    <tr>\n",
       "      <th>2018-05-31</th>\n",
       "      <td>0.348076</td>\n",
       "      <td>0.117355</td>\n",
       "    </tr>\n",
       "    <tr>\n",
       "      <th>2018-06-30</th>\n",
       "      <td>0.352640</td>\n",
       "      <td>-1.526662</td>\n",
       "    </tr>\n",
       "  </tbody>\n",
       "</table>\n",
       "</div>"
      ],
      "text/plain": [
       "                   B         D\n",
       "2018-01-31 -0.192418 -1.421906\n",
       "2018-02-28  0.217987  0.001403\n",
       "2018-03-31 -0.300452 -1.981531\n",
       "2018-04-30 -0.526478  0.417239\n",
       "2018-05-31  0.348076  0.117355\n",
       "2018-06-30  0.352640 -1.526662"
      ]
     },
     "execution_count": 7,
     "metadata": {},
     "output_type": "execute_result"
    }
   ],
   "source": [
    "#Visualizar datos por nombres de Columnas\n",
    "dataFrame[['B','D']]"
   ]
  },
  {
   "cell_type": "code",
   "execution_count": 8,
   "metadata": {},
   "outputs": [
    {
     "data": {
      "text/html": [
       "<div>\n",
       "<style>\n",
       "    .dataframe thead tr:only-child th {\n",
       "        text-align: right;\n",
       "    }\n",
       "\n",
       "    .dataframe thead th {\n",
       "        text-align: left;\n",
       "    }\n",
       "\n",
       "    .dataframe tbody tr th {\n",
       "        vertical-align: top;\n",
       "    }\n",
       "</style>\n",
       "<table border=\"1\" class=\"dataframe\">\n",
       "  <thead>\n",
       "    <tr style=\"text-align: right;\">\n",
       "      <th></th>\n",
       "      <th>B</th>\n",
       "      <th>C</th>\n",
       "      <th>D</th>\n",
       "    </tr>\n",
       "  </thead>\n",
       "  <tbody>\n",
       "    <tr>\n",
       "      <th>2018-01-31</th>\n",
       "      <td>-0.192418</td>\n",
       "      <td>1.577441</td>\n",
       "      <td>-1.421906</td>\n",
       "    </tr>\n",
       "    <tr>\n",
       "      <th>2018-02-28</th>\n",
       "      <td>0.217987</td>\n",
       "      <td>0.115208</td>\n",
       "      <td>0.001403</td>\n",
       "    </tr>\n",
       "    <tr>\n",
       "      <th>2018-03-31</th>\n",
       "      <td>-0.300452</td>\n",
       "      <td>-0.427741</td>\n",
       "      <td>-1.981531</td>\n",
       "    </tr>\n",
       "    <tr>\n",
       "      <th>2018-04-30</th>\n",
       "      <td>-0.526478</td>\n",
       "      <td>-0.858163</td>\n",
       "      <td>0.417239</td>\n",
       "    </tr>\n",
       "    <tr>\n",
       "      <th>2018-05-31</th>\n",
       "      <td>0.348076</td>\n",
       "      <td>0.136487</td>\n",
       "      <td>0.117355</td>\n",
       "    </tr>\n",
       "    <tr>\n",
       "      <th>2018-06-30</th>\n",
       "      <td>0.352640</td>\n",
       "      <td>0.258143</td>\n",
       "      <td>-1.526662</td>\n",
       "    </tr>\n",
       "  </tbody>\n",
       "</table>\n",
       "</div>"
      ],
      "text/plain": [
       "                   B         C         D\n",
       "2018-01-31 -0.192418  1.577441 -1.421906\n",
       "2018-02-28  0.217987  0.115208  0.001403\n",
       "2018-03-31 -0.300452 -0.427741 -1.981531\n",
       "2018-04-30 -0.526478 -0.858163  0.417239\n",
       "2018-05-31  0.348076  0.136487  0.117355\n",
       "2018-06-30  0.352640  0.258143 -1.526662"
      ]
     },
     "execution_count": 8,
     "metadata": {},
     "output_type": "execute_result"
    }
   ],
   "source": [
    "#Visualizar datos por nombres de columnas con loc indicando inicio y fin\n",
    "dataFrame.loc[:,'B':'D']"
   ]
  },
  {
   "cell_type": "code",
   "execution_count": 9,
   "metadata": {},
   "outputs": [
    {
     "data": {
      "text/html": [
       "<div>\n",
       "<style>\n",
       "    .dataframe thead tr:only-child th {\n",
       "        text-align: right;\n",
       "    }\n",
       "\n",
       "    .dataframe thead th {\n",
       "        text-align: left;\n",
       "    }\n",
       "\n",
       "    .dataframe tbody tr th {\n",
       "        vertical-align: top;\n",
       "    }\n",
       "</style>\n",
       "<table border=\"1\" class=\"dataframe\">\n",
       "  <thead>\n",
       "    <tr style=\"text-align: right;\">\n",
       "      <th></th>\n",
       "      <th>B</th>\n",
       "      <th>C</th>\n",
       "      <th>D</th>\n",
       "    </tr>\n",
       "  </thead>\n",
       "  <tbody>\n",
       "    <tr>\n",
       "      <th>2018-02-28</th>\n",
       "      <td>0.217987</td>\n",
       "      <td>0.115208</td>\n",
       "      <td>0.001403</td>\n",
       "    </tr>\n",
       "    <tr>\n",
       "      <th>2018-03-31</th>\n",
       "      <td>-0.300452</td>\n",
       "      <td>-0.427741</td>\n",
       "      <td>-1.981531</td>\n",
       "    </tr>\n",
       "    <tr>\n",
       "      <th>2018-04-30</th>\n",
       "      <td>-0.526478</td>\n",
       "      <td>-0.858163</td>\n",
       "      <td>0.417239</td>\n",
       "    </tr>\n",
       "    <tr>\n",
       "      <th>2018-05-31</th>\n",
       "      <td>0.348076</td>\n",
       "      <td>0.136487</td>\n",
       "      <td>0.117355</td>\n",
       "    </tr>\n",
       "  </tbody>\n",
       "</table>\n",
       "</div>"
      ],
      "text/plain": [
       "                   B         C         D\n",
       "2018-02-28  0.217987  0.115208  0.001403\n",
       "2018-03-31 -0.300452 -0.427741 -1.981531\n",
       "2018-04-30 -0.526478 -0.858163  0.417239\n",
       "2018-05-31  0.348076  0.136487  0.117355"
      ]
     },
     "execution_count": 9,
     "metadata": {},
     "output_type": "execute_result"
    }
   ],
   "source": [
    "#Visualizar datos por nombres columnas y filas\n",
    "dataFrame.loc['2018-02-28':'2018-05-31','B':'D']"
   ]
  },
  {
   "cell_type": "code",
   "execution_count": 10,
   "metadata": {},
   "outputs": [
    {
     "data": {
      "text/html": [
       "<div>\n",
       "<style>\n",
       "    .dataframe thead tr:only-child th {\n",
       "        text-align: right;\n",
       "    }\n",
       "\n",
       "    .dataframe thead th {\n",
       "        text-align: left;\n",
       "    }\n",
       "\n",
       "    .dataframe tbody tr th {\n",
       "        vertical-align: top;\n",
       "    }\n",
       "</style>\n",
       "<table border=\"1\" class=\"dataframe\">\n",
       "  <thead>\n",
       "    <tr style=\"text-align: right;\">\n",
       "      <th></th>\n",
       "      <th>B</th>\n",
       "      <th>C</th>\n",
       "      <th>D</th>\n",
       "    </tr>\n",
       "  </thead>\n",
       "  <tbody>\n",
       "    <tr>\n",
       "      <th>2018-02-28</th>\n",
       "      <td>0.217987</td>\n",
       "      <td>0.115208</td>\n",
       "      <td>0.001403</td>\n",
       "    </tr>\n",
       "    <tr>\n",
       "      <th>2018-03-31</th>\n",
       "      <td>-0.300452</td>\n",
       "      <td>-0.427741</td>\n",
       "      <td>-1.981531</td>\n",
       "    </tr>\n",
       "    <tr>\n",
       "      <th>2018-04-30</th>\n",
       "      <td>-0.526478</td>\n",
       "      <td>-0.858163</td>\n",
       "      <td>0.417239</td>\n",
       "    </tr>\n",
       "    <tr>\n",
       "      <th>2018-05-31</th>\n",
       "      <td>0.348076</td>\n",
       "      <td>0.136487</td>\n",
       "      <td>0.117355</td>\n",
       "    </tr>\n",
       "  </tbody>\n",
       "</table>\n",
       "</div>"
      ],
      "text/plain": [
       "                   B         C         D\n",
       "2018-02-28  0.217987  0.115208  0.001403\n",
       "2018-03-31 -0.300452 -0.427741 -1.981531\n",
       "2018-04-30 -0.526478 -0.858163  0.417239\n",
       "2018-05-31  0.348076  0.136487  0.117355"
      ]
     },
     "execution_count": 10,
     "metadata": {},
     "output_type": "execute_result"
    }
   ],
   "source": [
    "#Visualizar datos por posicion columnas y filas\n",
    "dataFrame.iloc[1:5,1:4]"
   ]
  },
  {
   "cell_type": "code",
   "execution_count": 11,
   "metadata": {},
   "outputs": [
    {
     "data": {
      "text/html": [
       "<div>\n",
       "<style>\n",
       "    .dataframe thead tr:only-child th {\n",
       "        text-align: right;\n",
       "    }\n",
       "\n",
       "    .dataframe thead th {\n",
       "        text-align: left;\n",
       "    }\n",
       "\n",
       "    .dataframe tbody tr th {\n",
       "        vertical-align: top;\n",
       "    }\n",
       "</style>\n",
       "<table border=\"1\" class=\"dataframe\">\n",
       "  <thead>\n",
       "    <tr style=\"text-align: right;\">\n",
       "      <th></th>\n",
       "      <th>A</th>\n",
       "      <th>B</th>\n",
       "      <th>C</th>\n",
       "      <th>D</th>\n",
       "      <th>Sumatoria</th>\n",
       "    </tr>\n",
       "  </thead>\n",
       "  <tbody>\n",
       "    <tr>\n",
       "      <th>2018-01-31</th>\n",
       "      <td>1.375923</td>\n",
       "      <td>-0.192418</td>\n",
       "      <td>1.577441</td>\n",
       "      <td>-1.421906</td>\n",
       "      <td>1.339040</td>\n",
       "    </tr>\n",
       "    <tr>\n",
       "      <th>2018-02-28</th>\n",
       "      <td>0.020578</td>\n",
       "      <td>0.217987</td>\n",
       "      <td>0.115208</td>\n",
       "      <td>0.001403</td>\n",
       "      <td>0.355176</td>\n",
       "    </tr>\n",
       "    <tr>\n",
       "      <th>2018-03-31</th>\n",
       "      <td>0.814479</td>\n",
       "      <td>-0.300452</td>\n",
       "      <td>-0.427741</td>\n",
       "      <td>-1.981531</td>\n",
       "      <td>-1.895244</td>\n",
       "    </tr>\n",
       "    <tr>\n",
       "      <th>2018-04-30</th>\n",
       "      <td>0.889032</td>\n",
       "      <td>-0.526478</td>\n",
       "      <td>-0.858163</td>\n",
       "      <td>0.417239</td>\n",
       "      <td>-0.078370</td>\n",
       "    </tr>\n",
       "    <tr>\n",
       "      <th>2018-05-31</th>\n",
       "      <td>-0.468856</td>\n",
       "      <td>0.348076</td>\n",
       "      <td>0.136487</td>\n",
       "      <td>0.117355</td>\n",
       "      <td>0.133061</td>\n",
       "    </tr>\n",
       "    <tr>\n",
       "      <th>2018-06-30</th>\n",
       "      <td>0.987198</td>\n",
       "      <td>0.352640</td>\n",
       "      <td>0.258143</td>\n",
       "      <td>-1.526662</td>\n",
       "      <td>0.071319</td>\n",
       "    </tr>\n",
       "  </tbody>\n",
       "</table>\n",
       "</div>"
      ],
      "text/plain": [
       "                   A         B         C         D  Sumatoria\n",
       "2018-01-31  1.375923 -0.192418  1.577441 -1.421906   1.339040\n",
       "2018-02-28  0.020578  0.217987  0.115208  0.001403   0.355176\n",
       "2018-03-31  0.814479 -0.300452 -0.427741 -1.981531  -1.895244\n",
       "2018-04-30  0.889032 -0.526478 -0.858163  0.417239  -0.078370\n",
       "2018-05-31 -0.468856  0.348076  0.136487  0.117355   0.133061\n",
       "2018-06-30  0.987198  0.352640  0.258143 -1.526662   0.071319"
      ]
     },
     "execution_count": 11,
     "metadata": {},
     "output_type": "execute_result"
    }
   ],
   "source": [
    "#Agregar una columna\n",
    "\n",
    "dataFrame['Sumatoria']=dataFrame[dataFrame.columns].sum(axis=1)\n",
    "dataFrame\n",
    "#axis : {index (0), columns (1)}"
   ]
  },
  {
   "cell_type": "code",
   "execution_count": 14,
   "metadata": {},
   "outputs": [
    {
     "data": {
      "text/html": [
       "<div>\n",
       "<style>\n",
       "    .dataframe thead tr:only-child th {\n",
       "        text-align: right;\n",
       "    }\n",
       "\n",
       "    .dataframe thead th {\n",
       "        text-align: left;\n",
       "    }\n",
       "\n",
       "    .dataframe tbody tr th {\n",
       "        vertical-align: top;\n",
       "    }\n",
       "</style>\n",
       "<table border=\"1\" class=\"dataframe\">\n",
       "  <thead>\n",
       "    <tr style=\"text-align: right;\">\n",
       "      <th></th>\n",
       "      <th>A</th>\n",
       "      <th>B</th>\n",
       "      <th>C</th>\n",
       "      <th>D</th>\n",
       "      <th>Sumatoria</th>\n",
       "    </tr>\n",
       "  </thead>\n",
       "  <tbody>\n",
       "    <tr>\n",
       "      <th>2018-01-31 00:00:00</th>\n",
       "      <td>1.375923</td>\n",
       "      <td>-0.192418</td>\n",
       "      <td>1.577441</td>\n",
       "      <td>-1.421906</td>\n",
       "      <td>1.339040</td>\n",
       "    </tr>\n",
       "    <tr>\n",
       "      <th>2018-02-28 00:00:00</th>\n",
       "      <td>0.020578</td>\n",
       "      <td>0.217987</td>\n",
       "      <td>0.115208</td>\n",
       "      <td>0.001403</td>\n",
       "      <td>0.355176</td>\n",
       "    </tr>\n",
       "    <tr>\n",
       "      <th>2018-03-31 00:00:00</th>\n",
       "      <td>0.814479</td>\n",
       "      <td>-0.300452</td>\n",
       "      <td>-0.427741</td>\n",
       "      <td>-1.981531</td>\n",
       "      <td>-1.895244</td>\n",
       "    </tr>\n",
       "    <tr>\n",
       "      <th>2018-04-30 00:00:00</th>\n",
       "      <td>0.889032</td>\n",
       "      <td>-0.526478</td>\n",
       "      <td>-0.858163</td>\n",
       "      <td>0.417239</td>\n",
       "      <td>-0.078370</td>\n",
       "    </tr>\n",
       "    <tr>\n",
       "      <th>2018-05-31 00:00:00</th>\n",
       "      <td>-0.468856</td>\n",
       "      <td>0.348076</td>\n",
       "      <td>0.136487</td>\n",
       "      <td>0.117355</td>\n",
       "      <td>0.133061</td>\n",
       "    </tr>\n",
       "    <tr>\n",
       "      <th>2018-06-30 00:00:00</th>\n",
       "      <td>0.987198</td>\n",
       "      <td>0.352640</td>\n",
       "      <td>0.258143</td>\n",
       "      <td>-1.526662</td>\n",
       "      <td>0.071319</td>\n",
       "    </tr>\n",
       "    <tr>\n",
       "      <th>Media</th>\n",
       "      <td>0.603059</td>\n",
       "      <td>-0.016774</td>\n",
       "      <td>0.133563</td>\n",
       "      <td>-0.732350</td>\n",
       "      <td>-0.012503</td>\n",
       "    </tr>\n",
       "  </tbody>\n",
       "</table>\n",
       "</div>"
      ],
      "text/plain": [
       "                            A         B         C         D  Sumatoria\n",
       "2018-01-31 00:00:00  1.375923 -0.192418  1.577441 -1.421906   1.339040\n",
       "2018-02-28 00:00:00  0.020578  0.217987  0.115208  0.001403   0.355176\n",
       "2018-03-31 00:00:00  0.814479 -0.300452 -0.427741 -1.981531  -1.895244\n",
       "2018-04-30 00:00:00  0.889032 -0.526478 -0.858163  0.417239  -0.078370\n",
       "2018-05-31 00:00:00 -0.468856  0.348076  0.136487  0.117355   0.133061\n",
       "2018-06-30 00:00:00  0.987198  0.352640  0.258143 -1.526662   0.071319\n",
       "Media                0.603059 -0.016774  0.133563 -0.732350  -0.012503"
      ]
     },
     "execution_count": 14,
     "metadata": {},
     "output_type": "execute_result"
    }
   ],
   "source": [
    "#Agregar una fila\n",
    "dataFrame.loc['Media']=dataFrame.mean()\n",
    "dataFrame"
   ]
  },
  {
   "cell_type": "code",
   "execution_count": 16,
   "metadata": {},
   "outputs": [],
   "source": [
    "#Graficar en Pandas\n",
    "%matplotlib inline"
   ]
  },
  {
   "cell_type": "code",
   "execution_count": 17,
   "metadata": {},
   "outputs": [
    {
     "data": {
      "text/plain": [
       "<matplotlib.axes._subplots.AxesSubplot at 0x7fc68ded4f98>"
      ]
     },
     "execution_count": 17,
     "metadata": {},
     "output_type": "execute_result"
    },
    {
     "data": {
      "image/png": "[encoded data removed]",
      "text/plain": [
       "<matplotlib.figure.Figure at 0x7fc68e002358>"
      ]
     },
     "metadata": {},
     "output_type": "display_data"
    }
   ],
   "source": [
    "#Grafica tipo Barras\n",
    "dataFrame.plot(kind='bar')"
   ]
  },
  {
   "cell_type": "code",
   "execution_count": 18,
   "metadata": {},
   "outputs": [
    {
     "data": {
      "text/plain": [
       "<matplotlib.axes._subplots.AxesSubplot at 0x7fc68de3a828>"
      ]
     },
     "execution_count": 18,
     "metadata": {},
     "output_type": "execute_result"
    },
    {
     "data": {
      "image/png": "[encoded data removed]",
      "text/plain": [
       "<matplotlib.figure.Figure at 0x7fc68debc160>"
      ]
     },
     "metadata": {},
     "output_type": "display_data"
    }
   ],
   "source": [
    "#Grafica tipo linea\n",
    "dataFrame.plot(kind='line')"
   ]
  },
  {
   "cell_type": "code",
   "execution_count": 20,
   "metadata": {},
   "outputs": [
    {
     "data": {
      "text/plain": [
       "<matplotlib.axes._subplots.AxesSubplot at 0x7fc68de04668>"
      ]
     },
     "execution_count": 20,
     "metadata": {},
     "output_type": "execute_result"
    },
    {
     "data": {
      "image/png": "[encoded data removed]",
      "text/plain": [
       "<matplotlib.figure.Figure at 0x7fc68de95be0>"
      ]
     },
     "metadata": {},
     "output_type": "display_data"
    }
   ],
   "source": [
    "#Grafica tipo Histograma\n",
    "dataFrame.plot(kind='hist') #Distribuciones de Frecuencias"
   ]
  },
  {
   "cell_type": "markdown",
   "metadata": {},
   "source": [
    "Más Opciones:\n",
    "https://pandas.pydata.org/pandas-docs/stable/generated/pandas.DataFrame.plot.html"
   ]
  },
  {
   "cell_type": "code",
   "execution_count": null,
   "metadata": {
    "collapsed": true
   },
   "outputs": [],
   "source": []
  }
 ],
 "metadata": {
  "kernelspec": {
   "display_name": "Python 3",
   "language": "python",
   "name": "python3"
  },
  "language_info": {
   "codemirror_mode": {
    "name": "ipython",
    "version": 3
   },
   "file_extension": ".py",
   "mimetype": "text/x-python",
   "name": "python",
   "nbconvert_exporter": "python",
   "pygments_lexer": "ipython3",
   "version": "3.6.3"
  }
 },
 "nbformat": 4,
 "nbformat_minor": 2
}
